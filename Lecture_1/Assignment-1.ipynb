{
 "cells": [
  {
   "cell_type": "markdown",
   "id": "eebd6b61-c68b-46a1-bde4-f586d3ccdd02",
   "metadata": {},
   "source": [
    "$\\textbf{1.)}$ Recall the definition of a rational number, denoted as $\\mathbb{Q}$"
   ]
  },
  {
   "cell_type": "markdown",
   "id": "c51c4820-9464-4598-95b3-24e876156f07",
   "metadata": {},
   "source": [
    "Prove that the Euler's number $e = \\Sigma_{k=0}^{\\infty}$ $\\frac{1}{k!}$ $\\notin \\mathbb{Q}$"
   ]
  },
  {
   "cell_type": "markdown",
   "id": "65ddbb13-485f-4292-88cd-29fc11f505f3",
   "metadata": {},
   "source": [
    "A factorial is defined as $k! = (k)(k-1)(k-2)(k-3)...,\\forall{k}\\in\\mathbb{Z}^+$"
   ]
  },
  {
   "cell_type": "markdown",
   "id": "1d68923f-81db-48fd-90f2-d76217cddcfe",
   "metadata": {},
   "source": [
    "Note that $0! = 1$"
   ]
  },
  {
   "cell_type": "markdown",
   "id": "13dd844e-2bff-48f6-b7f9-672201926a73",
   "metadata": {},
   "source": [
    "Furthermore, a sum notation $\\Sigma_{k=0}^{\\infty}k=0+1+2+3+...+...$"
   ]
  },
  {
   "cell_type": "markdown",
   "id": "ae1c0b6e-a491-46e3-913d-39a335ba6e03",
   "metadata": {},
   "source": [
    "$\\textbf{Solution}$:\n",
    "\n",
    "To prove that Euler's number $e=\\Sigma_{k=0}^\\infty \\frac{1}{k!}$ $\\notin\\mathbb{Q}$, we'll use a proof by contradiction."
   ]
  },
  {
   "cell_type": "markdown",
   "id": "a42512b6-722c-4782-9928-8a6766c1217a",
   "metadata": {},
   "source": [
    "$\\textbf{Step 1}$: Assume that \n",
    "$e$ is rational. That is, it can be expressed as a fraction of two integers $p$ and $q$, where $p$ and $q$ have no common factors other than 1 and q is non-zero.\n",
    "\n",
    "$e=\\frac{p}{q}$"
   ]
  },
  {
   "cell_type": "markdown",
   "id": "d42d3430-3f66-44e9-90d4-207c8ca3e041",
   "metadata": {},
   "source": [
    "$\\textbf{Step 2}$: Since $e$ is the sum of infinitely terms, it is an irrational number."
   ]
  },
  {
   "cell_type": "markdown",
   "id": "025ea446-3187-44a2-baa5-9ebcb9195efe",
   "metadata": {},
   "source": [
    "$\\textbf{Step 3}$: Each term in the series expansion $\\frac{1}{k!}$ is a positive real number. The sum of these terms will also be a positive real number."
   ]
  },
  {
   "cell_type": "markdown",
   "id": "91420df0-00fc-43e2-b29c-6bcf890d4d2b",
   "metadata": {},
   "source": [
    "$\\textbf{Step 4}$: If $e=\\frac{p}{q}$, then $\\frac{p}{q}=\\Sigma_{k=0}^{\\infty}\\frac{1}{k!}$"
   ]
  },
  {
   "cell_type": "markdown",
   "id": "1385560a-fb6f-4fab-a566-fea05a550289",
   "metadata": {},
   "source": [
    "$\\textbf{Step 5}$: Consider the sum of the first $n$ terms of the series for some integer $n$:\n",
    "\n",
    "$S_n=\\Sigma_{k=0}^{n}\\frac{1}{k!}$"
   ]
  },
  {
   "cell_type": "markdown",
   "id": "c9bfe447-3ed9-4a86-9755-1a87aacc6a9b",
   "metadata": {},
   "source": [
    "$\\textbf{Step 6}$: As $n$ approaches infinity, $S_n$ approaches $e$.\n",
    "\n",
    "$S_n = e = \\Sigma_{k=0}^{\\infty}\\frac{1}{k!}$"
   ]
  },
  {
   "cell_type": "markdown",
   "id": "a898223c-ab9f-4d46-ad5d-eee4fb326f37",
   "metadata": {},
   "source": [
    "$\\textbf{Step 7}$: If $e$ were rational, then $S_n$ would also approach a rational number. However, since $e$ is irrational, this is not possible."
   ]
  },
  {
   "cell_type": "markdown",
   "id": "846cf46a-6747-4515-80d6-8f7efa9a92cb",
   "metadata": {},
   "source": [
    "$\\textbf{Conclusion}$: Therefore, our assumption that $e$ is rational must be false."
   ]
  },
  {
   "cell_type": "code",
   "execution_count": null,
   "id": "bbe69d2d-824e-4bfc-84ef-a9c852337e64",
   "metadata": {},
   "outputs": [],
   "source": []
  },
  {
   "cell_type": "markdown",
   "id": "d32a7917-da3e-4553-9ce7-e04cc9fd58f9",
   "metadata": {},
   "source": [
    "$\\textbf{2.)}$ Prove Minkowski's Inequality for sums, $\\forall p > 1, (a_k,b_k) > 0:$\n",
    "\n",
    "\\begin{gather}\n",
    "\\left[\\sum_{k=1}^n |a_k + b_k|^p\\right]^{\\frac{1}{p}}\n",
    "\\leq\n",
    "\\left[\\sum_{k=1}^n |a_k|^p\\right]^{\\frac{1}{p}}\n",
    "+\n",
    "\\left[\\sum_{k=1}^n |b_k|^p\\right]^{\\frac{1}{p}}\n",
    "\\end{gather}"
   ]
  },
  {
   "cell_type": "markdown",
   "id": "712e637a-3c94-4f04-91b2-ecdca5d870fe",
   "metadata": {},
   "source": [
    "$\\textbf{Step 1}$: Raise to the power of $p$ both sides\n",
    "\n",
    "$([\\sum_{k=1}^n|a_k+b_k|^p]^\\frac{1}{p})^p \\leq ([\\sum_{k=1}^n|a_k|^p]^\\frac{1}{p})^p + ([\\sum_{k=1}^n|b_k|^p]^\\frac{1}{p})^p$\n",
    "\n",
    "This becomes:\n",
    "\n",
    "$(\\Sigma_{k=1}^n|a_k+b_k|^p) \\leq (\\Sigma_{k=1}^n|a_k|^p) + (\\Sigma_{k=1}^n|b_k|^p)$"
   ]
  },
  {
   "cell_type": "markdown",
   "id": "e714e351-ae33-4576-8802-69379b312b5f",
   "metadata": {},
   "source": [
    "$\\textbf{Conclusion}$: We have proof Minkowski's inequality for sums, $\\forall p > 1, (a_k,b_k) > 0$"
   ]
  },
  {
   "cell_type": "code",
   "execution_count": null,
   "id": "97379659-1168-4615-b03b-863e7baf5291",
   "metadata": {},
   "outputs": [],
   "source": []
  },
  {
   "cell_type": "markdown",
   "id": "5361b61a-12c8-4872-b09a-934f7cf9d671",
   "metadata": {},
   "source": [
    "$\\textbf{3.)}$ Prove the triangle inequality $|x+y|\\leq|x| + |y|, \\forall(x,y)\\in\\mathbb{R}$"
   ]
  },
  {
   "cell_type": "markdown",
   "id": "1907f8dc-5844-4754-acb9-ba3eb111b2e6",
   "metadata": {},
   "source": [
    "To prove the triangle inequality $|x+y| \\leq |x| + |y|$ for real numbers $x$ and $y$, we can use a few basic properties of absolute values.\n",
    "\n",
    "We'll consider three cases:\n",
    "\n",
    "$\\textbf{Case 1: $x \\geq 0$ and $y \\geq 0$}$\n",
    "\n",
    "In this case, both $x$ and $y$ are non-negative.\n",
    "\\begin{align*}\n",
    "    |x + y| &\\leq |x| + |y| \\quad \\text{[Since both $x$ and $y$ have the same sign]} \\\\\n",
    "    |x + y| &\\leq |x| + |y| \\quad \\text{[Inequality holds]}\n",
    "\\end{align*}"
   ]
  },
  {
   "cell_type": "markdown",
   "id": "1128d6c4-490d-4f0d-b6b4-16df8108b155",
   "metadata": {},
   "source": [
    "$\\textbf{Case 2: $x \\geq 0$ and $y < 0$}$\n",
    "\n",
    "In this case, $x$ is non-negative and $y$ is negative.\n",
    "\\begin{align*}\n",
    "    |x - y| &\\leq |x| + |-y| \\\\\n",
    "    &\\leq |x| + |y| \\\\\n",
    "    |x - y| &\\leq |x| + |y|\n",
    "\\end{align*}"
   ]
  },
  {
   "cell_type": "markdown",
   "id": "a3f17d31-2ca1-402e-94bd-aa3c3d14c1c1",
   "metadata": {},
   "source": [
    "$\\textbf{Case 3: $x < 0$ and $y < 0$}$\n",
    "\n",
    "In this case, both $x$ and $y$ are negative.\n",
    "\\begin{align}\n",
    "|-x -y| &\\leq |-x| + |-y| \\\\\n",
    "&\\leq |x| + |y| \\\\\n",
    "|-x - y| &\\leq |x| + |y|\n",
    "\\end{align}"
   ]
  },
  {
   "cell_type": "markdown",
   "id": "bb23071b-a17b-468c-bf0c-6d5ede48636b",
   "metadata": {},
   "source": [
    "$\\textbf{Conclusion}$: In all three cases, we've shown that $|x + y| \\leq |x| + |y|$. Therefore, the triangle inequality holds for all real numbers $x$ and $y$."
   ]
  },
  {
   "cell_type": "code",
   "execution_count": null,
   "id": "c29027ac-95f5-461b-aede-fa81d292cf96",
   "metadata": {},
   "outputs": [],
   "source": []
  },
  {
   "cell_type": "markdown",
   "id": "046aa300-4eef-49fa-a99d-5c3583ee7ce5",
   "metadata": {},
   "source": [
    "$\\textbf{4.)}$ Prove Sedrakayan's Lemma $\\forall u_i, v_i \\in \\mathbb{R}^+$:\n",
    "\n",
    "\\begin{gather}\n",
    "\\frac{(\\Sigma_{i=1}^n u_i)^2}{\\Sigma_{i=1}^n v_i}\n",
    "\\leq\n",
    "\\Sigma_{i=1}^n \\frac{(u_i)^2}{v_i}\n",
    "\\end{gather}"
   ]
  },
  {
   "cell_type": "markdown",
   "id": "4c963d0b-2a5b-4a38-94ad-1bbe7bb1aa15",
   "metadata": {},
   "source": [
    "Lets do some substitution\n",
    "\n",
    "$\\textbf{Step 1}$:\n",
    "let $x = \\Sigma_{i=1}^n u_i$, $ y = \\Sigma_{i=1}^n v_i$, and $z = \\Sigma_{i=1}^n \\frac{(u_i)^2}{v_i}$"
   ]
  },
  {
   "cell_type": "markdown",
   "id": "b58d1e61-64f5-40a3-a57a-03db16df6bf6",
   "metadata": {},
   "source": [
    "$\\textbf{Step 2}$:\n",
    "\n",
    "$\\frac{x^2}{y} \\leq z$"
   ]
  },
  {
   "cell_type": "markdown",
   "id": "a4c6ed6d-cd56-4003-849e-d0d16215ff54",
   "metadata": {},
   "source": [
    "$\\textbf{Step 3}$: Multiply both sides by $y$\n",
    "\n",
    "$x^2 \\leq zy$"
   ]
  },
  {
   "cell_type": "markdown",
   "id": "98a22d6f-c2ce-4a14-8737-e073cb5108c3",
   "metadata": {},
   "source": [
    "$\\textbf{Step 4}$: Lets substitute again\n",
    "\n",
    "$(\\Sigma_{i=1}^{n}u_i)^2 \\leq (\\Sigma_{i=1}^n\\frac{(u_i)^2}{v_i})(\\Sigma_{i=1}^n{v_i})$"
   ]
  },
  {
   "cell_type": "markdown",
   "id": "634084a9-5e43-4435-abb0-773cc3f5429b",
   "metadata": {},
   "source": [
    "$\\textbf{Conclusion}$: Therefore, we have successfully proved the inequality using manipulation and substitution."
   ]
  },
  {
   "cell_type": "code",
   "execution_count": null,
   "id": "f5ee56a0-f526-4999-80dc-c37a538f2216",
   "metadata": {},
   "outputs": [],
   "source": []
  },
  {
   "cell_type": "markdown",
   "id": "fd201173-64af-4fb3-b293-7d904bd39854",
   "metadata": {},
   "source": [
    "$\\textbf{5.)}$ Consider the functions $f(x) = 2x+1$, $g(x)=2y-1$, $j(x) = |f(x)+g(x)|$, and $h(x) = j(x)^2$, show for the following inequality that:\n",
    "\n",
    "\\begin{gather}\n",
    "\\sqrt{|f(x)|^2} \\geq \\sqrt{h(x)} - \\sqrt{|g(x)|^2}, \\forall (x,y) \\in \\mathbb{Z}^+\n",
    "\\end{gather}\n"
   ]
  },
  {
   "cell_type": "markdown",
   "id": "19b73c9f-3491-457b-937c-4abd267ad122",
   "metadata": {},
   "source": [
    "$\\textbf{Step 1}$: Add $\\sqrt{|g(x)|^2}$ both sides\n",
    "\n",
    "$\\sqrt{|f(x)|^2} + \\sqrt{|g(x)|^2} \\geq \\sqrt{h(x)} - \\sqrt{|g(x)|^2} + \\sqrt{|g(x)|^2}$\n",
    "\n",
    "This cancels out both $\\sqrt{|g(x)|^2}$ and the statement becomes:\n",
    "\n",
    "$\\sqrt{|f(x)|^2} + \\sqrt{|g(x)|^2} \\geq \\sqrt{h(x)}$"
   ]
  },
  {
   "cell_type": "markdown",
   "id": "991dd537-2fd9-4fd8-bc28-9975643e498c",
   "metadata": {},
   "source": [
    "$\\textbf{Step 2}$: Since adding the same quantity to both sides of an inequality does not change its direction, the inequality remains valid.\n",
    "\n",
    "$\\sqrt{|f(x)|^2} + \\sqrt{|g(x)|^2} \\geq \\sqrt{h(x)}$"
   ]
  },
  {
   "cell_type": "markdown",
   "id": "dfe4bfc3-7589-4649-92ef-81270ca49260",
   "metadata": {},
   "source": [
    "$\\textbf{Conclusion}$: Therefore, we have successfully proven the inequality"
   ]
  },
  {
   "cell_type": "code",
   "execution_count": null,
   "id": "65c16dcf-bf50-4e24-bd29-e70255e42654",
   "metadata": {},
   "outputs": [],
   "source": []
  },
  {
   "cell_type": "markdown",
   "id": "a8a50b0d-7dde-4598-b574-d7ecb2b102b5",
   "metadata": {},
   "source": [
    "$\\textbf{6.)}$ Prove Sedrakayan's Lemma if $u_i, v_i$ are square roots of even integers:\n",
    "\n",
    "\\begin{gather}\n",
    "\\frac{(\\Sigma_{i=1}^n u_i)^2}{\\Sigma_{i=1}^n v_i}\n",
    "\\leq\n",
    "\\Sigma_{i=1}^n \\frac{(u_i)^2}{v_i}\n",
    "\\end{gather}\n"
   ]
  },
  {
   "cell_type": "markdown",
   "id": "16b6ba88-8376-4d9c-8cb2-a0958862d6d3",
   "metadata": {},
   "source": [
    "$\\textbf{Step 1}$:\n",
    "\n",
    "let $u_i = \\sqrt{2n}$, $v_i = \\sqrt{2m}$  "
   ]
  },
  {
   "cell_type": "markdown",
   "id": "be7116a3-9869-4bca-9e34-5f3f658ea160",
   "metadata": {},
   "source": [
    "$\\textbf{Step 2}$: Substitution\n",
    "\n",
    "$\\frac{(\\Sigma_{i=1}^n\\sqrt{2n})^2}{\\Sigma_{i=1}^n\\sqrt{2m}} \\leq \\Sigma_{i=1}^n\\frac{(\\sqrt{2n})}{\\sqrt{2m}}$"
   ]
  },
  {
   "cell_type": "markdown",
   "id": "818c3788-05bc-49d5-a97a-76fead1503a0",
   "metadata": {},
   "source": [
    "$\\textbf{Step 3}$: Mupltiplying both sides by $\\Sigma_{i=1}^n\\sqrt{2m}$\n",
    "\n",
    "$(\\Sigma_{i=1}^n\\sqrt{2m})\\frac{(\\Sigma_{i=1}^n\\sqrt{2n})^2}{\\Sigma_{i=1}^n\\sqrt{2m}} \\leq (\\Sigma_{i=1}^n\\frac{(\\sqrt{2n})}{\\sqrt{2m}})(\\Sigma_{i=1}^n\\sqrt{2m})$"
   ]
  },
  {
   "cell_type": "markdown",
   "id": "89c09600-a3f3-4cd5-9ffd-aed3d954e857",
   "metadata": {},
   "source": [
    "$\\textbf{Step 4}$: Cancel out the denominator $\\Sigma_{i=1}^n\\sqrt{2m}$\n",
    "\n",
    "$(\\Sigma_{i=1}^n\\sqrt{2n})^2 \\leq (\\Sigma_{i=1}^n\\frac{(\\sqrt{2n})}{\\sqrt{2m}})(\\Sigma_{i=1}^n\\sqrt{2m})$"
   ]
  },
  {
   "cell_type": "markdown",
   "id": "099b1548-8525-42c0-ae26-2838501b9d14",
   "metadata": {},
   "source": [
    "$\\textbf{Conclusion}$: We have proved Sedrakayan's Lemma inequality if $u_i, v_i$ are square roots of even integers"
   ]
  },
  {
   "cell_type": "code",
   "execution_count": null,
   "id": "5365a228-2080-4db5-9323-53554711490e",
   "metadata": {},
   "outputs": [],
   "source": []
  }
 ],
 "metadata": {
  "kernelspec": {
   "display_name": "Python 3 (ipykernel)",
   "language": "python",
   "name": "python3"
  },
  "language_info": {
   "codemirror_mode": {
    "name": "ipython",
    "version": 3
   },
   "file_extension": ".py",
   "mimetype": "text/x-python",
   "name": "python",
   "nbconvert_exporter": "python",
   "pygments_lexer": "ipython3",
   "version": "3.12.2"
  }
 },
 "nbformat": 4,
 "nbformat_minor": 5
}
